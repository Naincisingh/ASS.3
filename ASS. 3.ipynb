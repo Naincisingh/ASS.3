{
 "cells": [
  {
   "cell_type": "code",
   "execution_count": 141,
   "id": "b0d80966-894c-45d1-8bc9-9c5bcafd647c",
   "metadata": {},
   "outputs": [
    {
     "name": "stdout",
     "output_type": "stream",
     "text": [
      "[34357]\n",
      "['sachin tendulkar', 34357]\n",
      "[34357]\n",
      "['sachin tendulkar', 34357]\n",
      "[27483]\n",
      "['ricky ponting', 27483]\n",
      "[27483]\n",
      "['ricky ponting', 27483]\n",
      "[25534]\n",
      "['jack kallis', 25534]\n",
      "[25534]\n",
      "['jack kallis', 25534]\n",
      "[24936]\n",
      "['virat kohli', 24936]\n",
      "[24936]\n",
      "['virat kohli', 24936]\n"
     ]
    }
   ],
   "source": [
    "\"\"\"QTS. 1\"\"\"\n",
    "\n",
    "l=[('sachin tendulkar',34357),('ricky ponting',27483),('jack kallis',25534),('virat kohli',24936)]\n",
    "for i in l:\n",
    "    l1=list(i)\n",
    "    for j in l1:\n",
    "        print(list(filter(lambda j:j if type(j)!=str else'',l1)))       \n",
    "        print(l1)"
   ]
  },
  {
   "cell_type": "code",
   "execution_count": 8,
   "id": "a840e5c9-729f-4e43-aa38-6825fb936c84",
   "metadata": {},
   "outputs": [
    {
     "data": {
      "text/plain": [
       "[1, 4, 9, 16, 25, 36, 49, 64, 81, 100]"
      ]
     },
     "execution_count": 8,
     "metadata": {},
     "output_type": "execute_result"
    }
   ],
   "source": [
    "\"\"\"QTS.2\"\"\"\n",
    "l=[1,2,3,4,5,6,7,8,9,10]\n",
    "\n",
    "list(map(lambda x:x**2,l))\n"
   ]
  },
  {
   "cell_type": "code",
   "execution_count": 17,
   "id": "91414b52-0c8b-48f9-bbd0-6870ef3dfed9",
   "metadata": {},
   "outputs": [
    {
     "name": "stdout",
     "output_type": "stream",
     "text": [
      "('1', '2', '3', '4', '5', '6', '7', '8', '9', '10')\n"
     ]
    }
   ],
   "source": [
    "\"\"\"QTS. 3\"\"\"\n",
    "l=[1,2,3,4,5,6,7,8,9,10]\n",
    "\n",
    "st=list(map(lambda x:str(x) ,l))\n",
    "tup=tuple(st)\n",
    "\n",
    "print(tup)"
   ]
  },
  {
   "cell_type": "code",
   "execution_count": 25,
   "id": "dacfd808-0427-4e3d-8d29-c2cf2d3d4741",
   "metadata": {},
   "outputs": [
    {
     "data": {
      "text/plain": [
       "15511210043330985984000000"
      ]
     },
     "execution_count": 25,
     "metadata": {},
     "output_type": "execute_result"
    }
   ],
   "source": [
    "\"\"\"QTS .4\"\"\"\n",
    "l=list(range(1,26))\n",
    "\n",
    "from functools import reduce\n",
    "reduce(lambda x,y:x*y, l)\n"
   ]
  },
  {
   "cell_type": "code",
   "execution_count": 32,
   "id": "a79ee931-c722-4461-a84e-41c96cb4ed96",
   "metadata": {},
   "outputs": [
    {
     "data": {
      "text/plain": [
       "[2, 6, 60, 90, 120, 46]"
      ]
     },
     "execution_count": 32,
     "metadata": {},
     "output_type": "execute_result"
    }
   ],
   "source": [
    "\"\"\"QTS.5\"\"\"\n",
    "\n",
    "l=[2,3,6,9,27,60,90,120,55,46]\n",
    "\n",
    "list(filter(lambda x:x%2==0&x%3==0,l))"
   ]
  },
  {
   "cell_type": "code",
   "execution_count": 36,
   "id": "b5b45b6e-464a-49ed-bf4b-436f38fa5b7c",
   "metadata": {},
   "outputs": [
    {
     "data": {
      "text/plain": [
       "['php', 'radar', 'aba', 'level']"
      ]
     },
     "execution_count": 36,
     "metadata": {},
     "output_type": "execute_result"
    }
   ],
   "source": [
    "\"\"\"QTS. 6\"\"\"\n",
    "l=[\"python\",\"php\",\"radar\",\"aba\",\"level\"]\n",
    "\n",
    "list(filter(lambda x:x==x[::-1],l))"
   ]
  },
  {
   "cell_type": "code",
   "execution_count": null,
   "id": "c2e29b37-8e7b-4960-871e-7254707a1276",
   "metadata": {},
   "outputs": [],
   "source": []
  }
 ],
 "metadata": {
  "kernelspec": {
   "display_name": "Python 3 (ipykernel)",
   "language": "python",
   "name": "python3"
  },
  "language_info": {
   "codemirror_mode": {
    "name": "ipython",
    "version": 3
   },
   "file_extension": ".py",
   "mimetype": "text/x-python",
   "name": "python",
   "nbconvert_exporter": "python",
   "pygments_lexer": "ipython3",
   "version": "3.10.8"
  }
 },
 "nbformat": 4,
 "nbformat_minor": 5
}
